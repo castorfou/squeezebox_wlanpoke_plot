{
 "cells": [
  {
   "cell_type": "markdown",
   "metadata": {
    "papermill": {
     "duration": 0.005048,
     "end_time": "2020-12-15T08:30:02.150572",
     "exception": false,
     "start_time": "2020-12-15T08:30:02.145524",
     "status": "completed"
    },
    "tags": []
   },
   "source": [
    "# Explanation\n",
    "\n",
    "With my wifi 6 router update, I have issues with squeezebox radios not able to connect anymore to wifi.\n",
    "\n",
    "Even connecting to the legacy router is an issue.\n",
    "\n",
    "I have posted messages to squeezebox forums : https://forums.slimdevices.com/showthread.php?97791-Squeezebox-Radio-keeps-losing-wireless-connection-and-won-t-reconnect-any-ideas/page10\n",
    "\n",
    "On user has developped a logging approach to keep track of connectivity issues. My intent is to plot results of these log files.\n",
    "\n",
    "I have 2 radios, one in the kitchen, one in the bathroom.\n"
   ]
  },
  {
   "cell_type": "markdown",
   "metadata": {
    "papermill": {
     "duration": 0.004726,
     "end_time": "2020-12-15T08:30:02.163021",
     "exception": false,
     "start_time": "2020-12-15T08:30:02.158295",
     "status": "completed"
    },
    "tags": []
   },
   "source": [
    "# Refresh data from squeezebox server"
   ]
  },
  {
   "cell_type": "code",
   "execution_count": 1,
   "metadata": {
    "ExecuteTime": {
     "end_time": "2020-12-12T17:29:18.036561Z",
     "start_time": "2020-12-12T17:29:17.793811Z"
    },
    "execution": {
     "iopub.execute_input": "2020-12-15T08:30:02.176055Z",
     "iopub.status.busy": "2020-12-15T08:30:02.175706Z",
     "iopub.status.idle": "2020-12-15T08:30:02.384828Z",
     "shell.execute_reply": "2020-12-15T08:30:02.384327Z"
    },
    "papermill": {
     "duration": 0.217577,
     "end_time": "2020-12-15T08:30:02.385054",
     "exception": false,
     "start_time": "2020-12-15T08:30:02.167477",
     "status": "completed"
    },
    "tags": []
   },
   "outputs": [],
   "source": [
    "!mkdir -p data\n",
    "!mkdir -p plot"
   ]
  },
  {
   "cell_type": "markdown",
   "metadata": {
    "papermill": {
     "duration": 0.004517,
     "end_time": "2020-12-15T08:30:02.395722",
     "exception": false,
     "start_time": "2020-12-15T08:30:02.391205",
     "status": "completed"
    },
    "tags": []
   },
   "source": [
    "scp within jupyter notebook requires to deploy a ssh-key on the target machine.\n",
    "\n",
    "``` bash\n",
    "(base) explore@explore-ThinkPad-P53:~/git/guillaume/squeezebox$ ssh-keygen -t rsa\n",
    "(base) explore@explore-ThinkPad-P53:~/git/guillaume/squeezebox$ scp /home/explore/.ssh/id_rsa.pub guillaume@htpc:~ \n",
    "```\n",
    "\n",
    "``` bash\n",
    "guillaume@htpc-arctic:~$ cat $HOME/id_rsa.pub >> $HOME/.ssh/authorized_keys\n",
    "guillaume@htpc-arctic:~$ rm id_rsa.pub\n",
    "```"
   ]
  },
  {
   "cell_type": "code",
   "execution_count": 2,
   "metadata": {
    "ExecuteTime": {
     "end_time": "2020-12-13T09:26:54.084993Z",
     "start_time": "2020-12-13T09:26:52.212354Z"
    },
    "execution": {
     "iopub.execute_input": "2020-12-15T08:30:02.407350Z",
     "iopub.status.busy": "2020-12-15T08:30:02.407026Z",
     "iopub.status.idle": "2020-12-15T08:30:06.870059Z",
     "shell.execute_reply": "2020-12-15T08:30:06.870300Z"
    },
    "papermill": {
     "duration": 4.470193,
     "end_time": "2020-12-15T08:30:06.870398",
     "exception": false,
     "start_time": "2020-12-15T08:30:02.400205",
     "status": "completed"
    },
    "tags": []
   },
   "outputs": [
    {
     "name": "stdout",
     "output_type": "stream",
     "text": [
      "receiving incremental file list\r\n"
     ]
    },
    {
     "name": "stdout",
     "output_type": "stream",
     "text": [
      "1121.log\r\n"
     ]
    },
    {
     "name": "stdout",
     "output_type": "stream",
     "text": [
      "1121.log-20201215\r\n"
     ]
    },
    {
     "name": "stdout",
     "output_type": "stream",
     "text": [
      "\r\n",
      "sent 18.89K bytes  received 917.87K bytes  208.17K bytes/sec\r\n",
      "total size is 98.39M  speedup is 105.04\r\n"
     ]
    }
   ],
   "source": [
    "# !scp -r guillaume@htpc:wlanpoke/* data/\n",
    "\n",
    "# move from scp to rsync\n",
    "!rsync -azvh guillaume@htpc:wlanpoke/* data/"
   ]
  },
  {
   "cell_type": "markdown",
   "metadata": {
    "papermill": {
     "duration": 0.007739,
     "end_time": "2020-12-15T08:30:06.883723",
     "exception": false,
     "start_time": "2020-12-15T08:30:06.875984",
     "status": "completed"
    },
    "tags": []
   },
   "source": [
    "# Read files and turn them into pandas"
   ]
  },
  {
   "cell_type": "code",
   "execution_count": 3,
   "metadata": {
    "ExecuteTime": {
     "end_time": "2020-12-12T13:09:28.520835Z",
     "start_time": "2020-12-12T13:09:28.497726Z"
    },
    "deletable": false,
    "editable": false,
    "execution": {
     "iopub.execute_input": "2020-12-15T08:30:06.897768Z",
     "iopub.status.busy": "2020-12-15T08:30:06.897445Z",
     "iopub.status.idle": "2020-12-15T08:30:06.915432Z",
     "shell.execute_reply": "2020-12-15T08:30:06.915177Z"
    },
    "papermill": {
     "duration": 0.026315,
     "end_time": "2020-12-15T08:30:06.915509",
     "exception": false,
     "start_time": "2020-12-15T08:30:06.889194",
     "status": "completed"
    },
    "run_control": {
     "frozen": true
    },
    "tags": []
   },
   "outputs": [
    {
     "name": "stdout",
     "output_type": "stream",
     "text": [
      "260\n",
      "2020-12-10T00:07:06+0100 Squeezebox SdB.253_063 192.168.50.1  ping failed eth1 AR6000 802.11g ESSID:\"MUSIC\" Mode:Managed Frequency:2.412 GHz Access Point: 28:C6:8E:B3:D4:BD Bit Rate=1 Mb/s Tx-Power=15 dBm Sensitivity=0/3 Retry:on Encryption key:off Link Quality:38/94 Signal level:-57 dBm Noise level:-96 dBm Rx invalid nwid:0 Rx invalid crypt:0 Rx invalid frag:0 Tx excessive retries:5 Invalid misc:0 Missed beacon:0\n",
      "\n",
      "2020-12-10T01:02:07+0100 Squeezebox SdB.253_063 192.168.50.1  ping failed eth1 AR6000 802.11g ESSID:\"MUSIC\" Mode:Managed Frequency:2.412 GHz Access Point: 28:C6:8E:B3:D4:BD Bit Rate=1 Mb/s Tx-Power=15 dBm Sensitivity=0/3 Retry:on Encryption key:off Link Quality:38/94 Signal level:-57 dBm Noise level:-96 dBm Rx invalid nwid:0 Rx invalid crypt:0 Rx invalid frag:0 Tx excessive retries:9 Invalid misc:0 Missed beacon:0\n",
      "\n",
      "2020-12-10T01:11:53+0100 Squeezebox SdB.253_063 192.168.50.1  ping failed eth1 AR6000 802.11g ESSID:\"MUSIC\" Mode:Managed Frequency:2.412 GHz Access Point: 28:C6:8E:B3:D4:BD Bit Rate=1 Mb/s Tx-Power=15 dBm Sensitivity=0/3 Retry:on Encryption key:off Link Quality:38/94 Signal level:-57 dBm Noise level:-96 dBm Rx invalid nwid:0 Rx invalid crypt:0 Rx invalid frag:0 Tx excessive retries:5 Invalid misc:0 Missed beacon:0\n",
      "\n"
     ]
    }
   ],
   "source": [
    "infile = r\"data/1121.log-20201211\"\n",
    "\n",
    "results = []\n",
    "to_keep = [\" ping failed \"]\n",
    "\n",
    "with open(infile) as f:\n",
    "    f = f.readlines()\n",
    "\n",
    "for line in f:\n",
    "    for phrase in to_keep:\n",
    "        if phrase in line:\n",
    "            results.append(line)\n",
    "            break\n",
    "\n",
    "print(len(results))\n",
    "for line in results[:3]:\n",
    "    print(line)\n",
    "# print(results[:10])"
   ]
  },
  {
   "cell_type": "code",
   "execution_count": 4,
   "metadata": {
    "ExecuteTime": {
     "end_time": "2020-12-12T17:29:21.601652Z",
     "start_time": "2020-12-12T17:29:21.530643Z"
    },
    "execution": {
     "iopub.execute_input": "2020-12-15T08:30:06.932043Z",
     "iopub.status.busy": "2020-12-15T08:30:06.931724Z",
     "iopub.status.idle": "2020-12-15T08:30:07.031129Z",
     "shell.execute_reply": "2020-12-15T08:30:07.030819Z"
    },
    "papermill": {
     "duration": 0.110111,
     "end_time": "2020-12-15T08:30:07.031203",
     "exception": false,
     "start_time": "2020-12-15T08:30:06.921092",
     "status": "completed"
    },
    "tags": []
   },
   "outputs": [
    {
     "name": "stdout",
     "output_type": "stream",
     "text": [
      "data/1121.log-20201211\n",
      "data/1121.log-20201214\n"
     ]
    },
    {
     "name": "stdout",
     "output_type": "stream",
     "text": [
      "data/1121.log-20201212\n",
      "data/1121.log-20201213\n",
      "data/1121.log-20201215\n",
      "1809\n",
      "2020-12-10T00:07:06+0100 Squeezebox SdB.253_063 192.168.50.1  ping failed eth1 AR6000 802.11g ESSID:\"MUSIC\" Mode:Managed Frequency:2.412 GHz Access Point: 28:C6:8E:B3:D4:BD Bit Rate=1 Mb/s Tx-Power=15 dBm Sensitivity=0/3 Retry:on Encryption key:off Link Quality:38/94 Signal level:-57 dBm Noise level:-96 dBm Rx invalid nwid:0 Rx invalid crypt:0 Rx invalid frag:0 Tx excessive retries:5 Invalid misc:0 Missed beacon:0\n",
      "\n",
      "2020-12-10T01:02:07+0100 Squeezebox SdB.253_063 192.168.50.1  ping failed eth1 AR6000 802.11g ESSID:\"MUSIC\" Mode:Managed Frequency:2.412 GHz Access Point: 28:C6:8E:B3:D4:BD Bit Rate=1 Mb/s Tx-Power=15 dBm Sensitivity=0/3 Retry:on Encryption key:off Link Quality:38/94 Signal level:-57 dBm Noise level:-96 dBm Rx invalid nwid:0 Rx invalid crypt:0 Rx invalid frag:0 Tx excessive retries:9 Invalid misc:0 Missed beacon:0\n",
      "\n",
      "2020-12-10T01:11:53+0100 Squeezebox SdB.253_063 192.168.50.1  ping failed eth1 AR6000 802.11g ESSID:\"MUSIC\" Mode:Managed Frequency:2.412 GHz Access Point: 28:C6:8E:B3:D4:BD Bit Rate=1 Mb/s Tx-Power=15 dBm Sensitivity=0/3 Retry:on Encryption key:off Link Quality:38/94 Signal level:-57 dBm Noise level:-96 dBm Rx invalid nwid:0 Rx invalid crypt:0 Rx invalid frag:0 Tx excessive retries:5 Invalid misc:0 Missed beacon:0\n",
      "\n"
     ]
    }
   ],
   "source": [
    "import os\n",
    "indirectory = r\"data/\"\n",
    "\n",
    "results = []\n",
    "to_keep = [\" ping failed \"]\n",
    "\n",
    "for filename in os.listdir(indirectory):\n",
    "    if filename.startswith(\"1121.log-\"):\n",
    "        print(os.path.join(indirectory, filename))\n",
    "        with open(os.path.join(indirectory, filename)) as f:\n",
    "            f = f.readlines()\n",
    "\n",
    "            for line in f:\n",
    "                for phrase in to_keep:\n",
    "                    if phrase in line:\n",
    "                        results.append(line)\n",
    "                        break\n",
    "            \n",
    "print(len(results))\n",
    "for line in results[:3]:\n",
    "    print(line)\n",
    "\n",
    "\n",
    "splitted_results = [l.split(' ') for l in results]"
   ]
  },
  {
   "cell_type": "code",
   "execution_count": 5,
   "metadata": {
    "ExecuteTime": {
     "end_time": "2020-12-12T17:29:21.636357Z",
     "start_time": "2020-12-12T17:29:21.604119Z"
    },
    "execution": {
     "iopub.execute_input": "2020-12-15T08:30:07.049889Z",
     "iopub.status.busy": "2020-12-15T08:30:07.049572Z",
     "iopub.status.idle": "2020-12-15T08:30:07.236244Z",
     "shell.execute_reply": "2020-12-15T08:30:07.235934Z"
    },
    "papermill": {
     "duration": 0.19893,
     "end_time": "2020-12-15T08:30:07.236319",
     "exception": false,
     "start_time": "2020-12-15T08:30:07.037389",
     "status": "completed"
    },
    "tags": []
   },
   "outputs": [
    {
     "name": "stdout",
     "output_type": "stream",
     "text": [
      "BathRoom    927\n",
      "Kitchen     882\n",
      "Name: Radio, dtype: int64\n"
     ]
    }
   ],
   "source": [
    "import pandas as pd\n",
    "\n",
    "raw_logs = pd.DataFrame(splitted_results)\n",
    "raw_logs = raw_logs[[0, 2]]\n",
    "\n",
    "raw_logs.columns = ['Date', 'Radio']\n",
    "\n",
    "\n",
    "\n",
    "\n",
    "raw_logs['Date'] = pd.to_datetime(raw_logs['Date'].str[:-6])\n",
    "\n",
    "raw_logs['Radio']=raw_logs['Radio'].map({'SdB.253_063': 'BathRoom', 'Cuisine.252_063': 'Kitchen', 'BathRoom':'BathRoom', 'Kitchen':'Kitchen'})\n",
    "raw_logs['Radio']=raw_logs['Radio'].astype('category')\n",
    "\n",
    "print(raw_logs['Radio'].value_counts())\n",
    "\n",
    "squeezeradio_logs = raw_logs.copy()\n",
    "\n",
    "grp = squeezeradio_logs.groupby(by=[squeezeradio_logs.Date.map(lambda x : (x.year, x.month, x.day, x.hour)), squeezeradio_logs.Radio])\n",
    "squeezeradio_logs_grouped = grp.count().unstack()\n",
    "squeezeradio_logs_grouped.columns= squeezeradio_logs_grouped.columns.droplevel()\n",
    "\n",
    "\n",
    "def reset_index(df):\n",
    "  '''Returns DataFrame with index as columns'''\n",
    "  index_df = df.index.to_frame(index=False)\n",
    "  df = df.reset_index(drop=True)\n",
    "  #  In merge is important the order in which you pass the dataframes\n",
    "  # if the index contains a Categorical. \n",
    "  # pd.merge(df, index_df, left_index=True, right_index=True) does not work\n",
    "  return pd.merge(index_df, df, left_index=True, right_index=True)\n",
    "\n",
    "import numpy as np\n",
    "\n",
    "squeezeradio_logs_grouped = reset_index(squeezeradio_logs_grouped)\n",
    "squeezeradio_logs_grouped = squeezeradio_logs_grouped.replace(np.nan, 0)\n",
    "\n",
    "\n",
    "squeezeradio_logs_grouped['BathRoom']=squeezeradio_logs_grouped['BathRoom'].astype(int)\n",
    "squeezeradio_logs_grouped['Kitchen']=squeezeradio_logs_grouped['Kitchen'].astype(int)\n",
    "\n",
    "from datetime import datetime\n",
    "import time\n",
    "\n",
    "def tuple_to_date(tup):\n",
    "    end_tuple = (0,0,0,0,0)\n",
    "    t = time.mktime(tup+end_tuple)\n",
    "    return time.strftime(\"%Y-%m-%d %H:%M:%S\", time.gmtime(t))\n",
    "\n",
    "squeezeradio_logs_grouped['Date']=squeezeradio_logs_grouped['Date'].apply(tuple_to_date)\n",
    "squeezeradio_logs_grouped['Date']= pd.to_datetime(squeezeradio_logs_grouped['Date'])\n",
    "squeezeradio_logs_grouped.set_index('Date', inplace=True)"
   ]
  },
  {
   "cell_type": "markdown",
   "metadata": {
    "papermill": {
     "duration": 0.006071,
     "end_time": "2020-12-15T08:30:07.248710",
     "exception": false,
     "start_time": "2020-12-15T08:30:07.242639",
     "status": "completed"
    },
    "tags": []
   },
   "source": [
    "# Bar Plot errors per month, day, hour"
   ]
  },
  {
   "cell_type": "code",
   "execution_count": 6,
   "metadata": {
    "ExecuteTime": {
     "end_time": "2020-12-12T17:29:22.150013Z",
     "start_time": "2020-12-12T17:29:21.637357Z"
    },
    "execution": {
     "iopub.execute_input": "2020-12-15T08:30:07.264249Z",
     "iopub.status.busy": "2020-12-15T08:30:07.263944Z",
     "iopub.status.idle": "2020-12-15T08:30:09.105170Z",
     "shell.execute_reply": "2020-12-15T08:30:09.104832Z"
    },
    "papermill": {
     "duration": 1.850388,
     "end_time": "2020-12-15T08:30:09.105251",
     "exception": false,
     "start_time": "2020-12-15T08:30:07.254863",
     "status": "completed"
    },
    "tags": []
   },
   "outputs": [
    {
     "data": {
      "image/png": "[encoded data removed]",
      "text/plain": [
       "<Figure size 1080x504 with 1 Axes>"
      ]
     },
     "metadata": {
      "needs_background": "light"
     },
     "output_type": "display_data"
    }
   ],
   "source": [
    "import matplotlib.pyplot as plt\n",
    "%matplotlib inline\n",
    "\n",
    "#plot data\n",
    "fig, ax = plt.subplots(figsize=(15,7))\n",
    "\n",
    "\n",
    "\n",
    "squeezeradio_logs_grouped.plot.bar(rot=70, ax=ax)\n",
    "plt.xlabel('date')\n",
    "plt.ylabel('# of fail')\n",
    "plt.title('# of Fail per hour')\n",
    "plt.grid(True)"
   ]
  },
  {
   "cell_type": "markdown",
   "metadata": {
    "papermill": {
     "duration": 0.007293,
     "end_time": "2020-12-15T08:30:09.120014",
     "exception": false,
     "start_time": "2020-12-15T08:30:09.112721",
     "status": "completed"
    },
    "tags": []
   },
   "source": [
    "# Simple plot"
   ]
  },
  {
   "cell_type": "code",
   "execution_count": 7,
   "metadata": {
    "ExecuteTime": {
     "end_time": "2020-12-12T17:29:22.286048Z",
     "start_time": "2020-12-12T17:29:22.151158Z"
    },
    "execution": {
     "iopub.execute_input": "2020-12-15T08:30:09.138924Z",
     "iopub.status.busy": "2020-12-15T08:30:09.138611Z",
     "iopub.status.idle": "2020-12-15T08:30:09.258419Z",
     "shell.execute_reply": "2020-12-15T08:30:09.258100Z"
    },
    "papermill": {
     "duration": 0.131252,
     "end_time": "2020-12-15T08:30:09.258495",
     "exception": false,
     "start_time": "2020-12-15T08:30:09.127243",
     "status": "completed"
    },
    "tags": []
   },
   "outputs": [
    {
     "data": {
      "image/png": "[encoded data removed]",
      "text/plain": [
       "<Figure size 1080x504 with 1 Axes>"
      ]
     },
     "metadata": {
      "needs_background": "light"
     },
     "output_type": "display_data"
    }
   ],
   "source": [
    "import matplotlib.pyplot as plt\n",
    "%matplotlib inline\n",
    "\n",
    "#plot data\n",
    "fig, ax = plt.subplots(figsize=(15,7))\n",
    "\n",
    "\n",
    "\n",
    "squeezeradio_logs_grouped.plot(ax=ax)\n",
    "plt.xlabel('date')\n",
    "plt.ylabel('# of fail')\n",
    "plt.title('# of Fail per hour')\n",
    "plt.grid(True)\n",
    "plt.xticks(rotation=70);"
   ]
  },
  {
   "cell_type": "markdown",
   "metadata": {
    "papermill": {
     "duration": 0.008421,
     "end_time": "2020-12-15T08:30:09.275488",
     "exception": false,
     "start_time": "2020-12-15T08:30:09.267067",
     "status": "completed"
    },
    "tags": []
   },
   "source": [
    "# save plot as png"
   ]
  },
  {
   "cell_type": "code",
   "execution_count": 8,
   "metadata": {
    "ExecuteTime": {
     "end_time": "2020-12-12T17:30:04.407404Z",
     "start_time": "2020-12-12T17:30:04.352988Z"
    },
    "execution": {
     "iopub.execute_input": "2020-12-15T08:30:09.296736Z",
     "iopub.status.busy": "2020-12-15T08:30:09.296362Z",
     "iopub.status.idle": "2020-12-15T08:30:09.348422Z",
     "shell.execute_reply": "2020-12-15T08:30:09.348090Z"
    },
    "papermill": {
     "duration": 0.064883,
     "end_time": "2020-12-15T08:30:09.348503",
     "exception": false,
     "start_time": "2020-12-15T08:30:09.283620",
     "status": "completed"
    },
    "tags": []
   },
   "outputs": [],
   "source": [
    "min_date, max_date = squeezeradio_logs_grouped.reset_index()['Date'].min(), squeezeradio_logs_grouped.reset_index()['Date'].max()\n",
    "min_date = min_date.strftime(\"%y%m%d\")\n",
    "max_date = max_date.strftime(\"%y%m%d\")\n",
    "\n",
    "filename=max_date+'-'+min_date+'.png'\n",
    "fig.savefig('plot/'+filename)\n",
    "\n"
   ]
  },
  {
   "cell_type": "code",
   "execution_count": null,
   "metadata": {
    "papermill": {
     "duration": 0.008321,
     "end_time": "2020-12-15T08:30:09.365288",
     "exception": false,
     "start_time": "2020-12-15T08:30:09.356967",
     "status": "completed"
    },
    "tags": []
   },
   "outputs": [],
   "source": []
  }
 ],
 "metadata": {
  "kernelspec": {
   "display_name": "Python [conda env:squeezebox] *",
   "language": "python",
   "name": "conda-env-squeezebox-py"
  },
  "language_info": {
   "codemirror_mode": {
    "name": "ipython",
    "version": 3
   },
   "file_extension": ".py",
   "mimetype": "text/x-python",
   "name": "python",
   "nbconvert_exporter": "python",
   "pygments_lexer": "ipython3",
   "version": "3.7.9"
  },
  "papermill": {
   "default_parameters": {},
   "duration": 9.162419,
   "end_time": "2020-12-15T08:30:10.678404",
   "environment_variables": {},
   "exception": null,
   "input_path": "1 - EDA.ipynb",
   "output_path": "1 - EDA - out.ipynb",
   "parameters": {},
   "start_time": "2020-12-15T08:30:01.515985",
   "version": "2.2.2"
  },
  "toc": {
   "base_numbering": 1,
   "nav_menu": {},
   "number_sections": true,
   "sideBar": true,
   "skip_h1_title": false,
   "title_cell": "Table of Contents",
   "title_sidebar": "Contents",
   "toc_cell": false,
   "toc_position": {},
   "toc_section_display": true,
   "toc_window_display": true
  }
 },
 "nbformat": 4,
 "nbformat_minor": 4
}