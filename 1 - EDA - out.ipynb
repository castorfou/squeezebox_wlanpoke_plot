{
 "cells": [
  {
   "cell_type": "markdown",
   "metadata": {
    "papermill": {
     "duration": 0.007384,
     "end_time": "2020-12-13T10:10:02.315289",
     "exception": false,
     "start_time": "2020-12-13T10:10:02.307905",
     "status": "completed"
    },
    "tags": []
   },
   "source": [
    "# Explanation\n",
    "\n",
    "With my wifi 6 router update, I have issues with squeezebox radios not able to connect anymore to wifi.\n",
    "\n",
    "Even connecting to the legacy router is an issue.\n",
    "\n",
    "I have posted messages to squeezebox forums : https://forums.slimdevices.com/showthread.php?97791-Squeezebox-Radio-keeps-losing-wireless-connection-and-won-t-reconnect-any-ideas/page10\n",
    "\n",
    "On user has developped a logging approach to keep track of connectivity issues. My intent is to plot results of these log files.\n",
    "\n",
    "I have 2 radios, one in the kitchen, one in the bathroom.\n"
   ]
  },
  {
   "cell_type": "markdown",
   "metadata": {
    "papermill": {
     "duration": 0.004375,
     "end_time": "2020-12-13T10:10:02.324306",
     "exception": false,
     "start_time": "2020-12-13T10:10:02.319931",
     "status": "completed"
    },
    "tags": []
   },
   "source": [
    "# Refresh data from squeezebox server"
   ]
  },
  {
   "cell_type": "code",
   "execution_count": 1,
   "metadata": {
    "ExecuteTime": {
     "end_time": "2020-12-12T17:29:18.036561Z",
     "start_time": "2020-12-12T17:29:17.793811Z"
    },
    "execution": {
     "iopub.execute_input": "2020-12-13T10:10:02.336123Z",
     "iopub.status.busy": "2020-12-13T10:10:02.335749Z",
     "iopub.status.idle": "2020-12-13T10:10:02.561502Z",
     "shell.execute_reply": "2020-12-13T10:10:02.559844Z"
    },
    "papermill": {
     "duration": 0.233273,
     "end_time": "2020-12-13T10:10:02.562045",
     "exception": false,
     "start_time": "2020-12-13T10:10:02.328772",
     "status": "completed"
    },
    "tags": []
   },
   "outputs": [],
   "source": [
    "!mkdir -p data\n",
    "!mkdir -p plot"
   ]
  },
  {
   "cell_type": "markdown",
   "metadata": {
    "papermill": {
     "duration": 0.013041,
     "end_time": "2020-12-13T10:10:02.604153",
     "exception": false,
     "start_time": "2020-12-13T10:10:02.591112",
     "status": "completed"
    },
    "tags": []
   },
   "source": [
    "scp within jupyter notebook requires to deploy a ssh-key on the target machine.\n",
    "\n",
    "``` bash\n",
    "(base) explore@explore-ThinkPad-P53:~/git/guillaume/squeezebox$ ssh-keygen -t rsa\n",
    "(base) explore@explore-ThinkPad-P53:~/git/guillaume/squeezebox$ scp /home/explore/.ssh/id_rsa.pub guillaume@htpc:~ \n",
    "```\n",
    "\n",
    "``` bash\n",
    "guillaume@htpc-arctic:~$ cat $HOME/id_rsa.pub >> $HOME/.ssh/authorized_keys\n",
    "guillaume@htpc-arctic:~$ rm id_rsa.pub\n",
    "```"
   ]
  },
  {
   "cell_type": "code",
   "execution_count": 2,
   "metadata": {
    "ExecuteTime": {
     "end_time": "2020-12-13T09:26:54.084993Z",
     "start_time": "2020-12-13T09:26:52.212354Z"
    },
    "execution": {
     "iopub.execute_input": "2020-12-13T10:10:02.623228Z",
     "iopub.status.busy": "2020-12-13T10:10:02.622844Z",
     "iopub.status.idle": "2020-12-13T10:10:04.599007Z",
     "shell.execute_reply": "2020-12-13T10:10:04.600389Z"
    },
    "papermill": {
     "duration": 1.988303,
     "end_time": "2020-12-13T10:10:04.600822",
     "exception": false,
     "start_time": "2020-12-13T10:10:02.612519",
     "status": "completed"
    },
    "tags": []
   },
   "outputs": [
    {
     "name": "stdout",
     "output_type": "stream",
     "text": [
      "receiving incremental file list\r\n"
     ]
    },
    {
     "name": "stdout",
     "output_type": "stream",
     "text": [
      "1121.log\r\n",
      "\r\n",
      "sent 16.98K bytes  received 21.64K bytes  15.44K bytes/sec\r\n",
      "total size is 59.31M  speedup is 1,536.06\r\n"
     ]
    }
   ],
   "source": [
    "# !scp -r guillaume@htpc:wlanpoke/* data/\n",
    "\n",
    "# move from scp to rsync\n",
    "!rsync -azvh guillaume@htpc:wlanpoke/* data/"
   ]
  },
  {
   "cell_type": "markdown",
   "metadata": {
    "papermill": {
     "duration": 0.014556,
     "end_time": "2020-12-13T10:10:04.643123",
     "exception": false,
     "start_time": "2020-12-13T10:10:04.628567",
     "status": "completed"
    },
    "tags": []
   },
   "source": [
    "# Read files and turn them into pandas"
   ]
  },
  {
   "cell_type": "code",
   "execution_count": 3,
   "metadata": {
    "ExecuteTime": {
     "end_time": "2020-12-12T13:09:28.520835Z",
     "start_time": "2020-12-12T13:09:28.497726Z"
    },
    "deletable": false,
    "editable": false,
    "execution": {
     "iopub.execute_input": "2020-12-13T10:10:04.662720Z",
     "iopub.status.busy": "2020-12-13T10:10:04.662338Z",
     "iopub.status.idle": "2020-12-13T10:10:04.681379Z",
     "shell.execute_reply": "2020-12-13T10:10:04.681056Z"
    },
    "papermill": {
     "duration": 0.02949,
     "end_time": "2020-12-13T10:10:04.681453",
     "exception": false,
     "start_time": "2020-12-13T10:10:04.651963",
     "status": "completed"
    },
    "run_control": {
     "frozen": true
    },
    "tags": []
   },
   "outputs": [
    {
     "name": "stdout",
     "output_type": "stream",
     "text": [
      "260\n",
      "2020-12-10T00:07:06+0100 Squeezebox SdB.253_063 192.168.50.1  ping failed eth1 AR6000 802.11g ESSID:\"MUSIC\" Mode:Managed Frequency:2.412 GHz Access Point: 28:C6:8E:B3:D4:BD Bit Rate=1 Mb/s Tx-Power=15 dBm Sensitivity=0/3 Retry:on Encryption key:off Link Quality:38/94 Signal level:-57 dBm Noise level:-96 dBm Rx invalid nwid:0 Rx invalid crypt:0 Rx invalid frag:0 Tx excessive retries:5 Invalid misc:0 Missed beacon:0\n",
      "\n",
      "2020-12-10T01:02:07+0100 Squeezebox SdB.253_063 192.168.50.1  ping failed eth1 AR6000 802.11g ESSID:\"MUSIC\" Mode:Managed Frequency:2.412 GHz Access Point: 28:C6:8E:B3:D4:BD Bit Rate=1 Mb/s Tx-Power=15 dBm Sensitivity=0/3 Retry:on Encryption key:off Link Quality:38/94 Signal level:-57 dBm Noise level:-96 dBm Rx invalid nwid:0 Rx invalid crypt:0 Rx invalid frag:0 Tx excessive retries:9 Invalid misc:0 Missed beacon:0\n",
      "\n",
      "2020-12-10T01:11:53+0100 Squeezebox SdB.253_063 192.168.50.1  ping failed eth1 AR6000 802.11g ESSID:\"MUSIC\" Mode:Managed Frequency:2.412 GHz Access Point: 28:C6:8E:B3:D4:BD Bit Rate=1 Mb/s Tx-Power=15 dBm Sensitivity=0/3 Retry:on Encryption key:off Link Quality:38/94 Signal level:-57 dBm Noise level:-96 dBm Rx invalid nwid:0 Rx invalid crypt:0 Rx invalid frag:0 Tx excessive retries:5 Invalid misc:0 Missed beacon:0\n",
      "\n"
     ]
    }
   ],
   "source": [
    "infile = r\"data/1121.log-20201211\"\n",
    "\n",
    "results = []\n",
    "to_keep = [\" ping failed \"]\n",
    "\n",
    "with open(infile) as f:\n",
    "    f = f.readlines()\n",
    "\n",
    "for line in f:\n",
    "    for phrase in to_keep:\n",
    "        if phrase in line:\n",
    "            results.append(line)\n",
    "            break\n",
    "\n",
    "print(len(results))\n",
    "for line in results[:3]:\n",
    "    print(line)\n",
    "# print(results[:10])"
   ]
  },
  {
   "cell_type": "code",
   "execution_count": 4,
   "metadata": {
    "ExecuteTime": {
     "end_time": "2020-12-12T17:29:21.601652Z",
     "start_time": "2020-12-12T17:29:21.530643Z"
    },
    "execution": {
     "iopub.execute_input": "2020-12-13T10:10:04.696083Z",
     "iopub.status.busy": "2020-12-13T10:10:04.695772Z",
     "iopub.status.idle": "2020-12-13T10:10:04.756652Z",
     "shell.execute_reply": "2020-12-13T10:10:04.756339Z"
    },
    "papermill": {
     "duration": 0.069957,
     "end_time": "2020-12-13T10:10:04.756727",
     "exception": false,
     "start_time": "2020-12-13T10:10:04.686770",
     "status": "completed"
    },
    "tags": []
   },
   "outputs": [
    {
     "name": "stdout",
     "output_type": "stream",
     "text": [
      "data/1121.log-20201211\n",
      "data/1121.log-20201212\n",
      "data/1121.log-20201213\n",
      "1034\n",
      "2020-12-10T00:07:06+0100 Squeezebox SdB.253_063 192.168.50.1  ping failed eth1 AR6000 802.11g ESSID:\"MUSIC\" Mode:Managed Frequency:2.412 GHz Access Point: 28:C6:8E:B3:D4:BD Bit Rate=1 Mb/s Tx-Power=15 dBm Sensitivity=0/3 Retry:on Encryption key:off Link Quality:38/94 Signal level:-57 dBm Noise level:-96 dBm Rx invalid nwid:0 Rx invalid crypt:0 Rx invalid frag:0 Tx excessive retries:5 Invalid misc:0 Missed beacon:0\n",
      "\n",
      "2020-12-10T01:02:07+0100 Squeezebox SdB.253_063 192.168.50.1  ping failed eth1 AR6000 802.11g ESSID:\"MUSIC\" Mode:Managed Frequency:2.412 GHz Access Point: 28:C6:8E:B3:D4:BD Bit Rate=1 Mb/s Tx-Power=15 dBm Sensitivity=0/3 Retry:on Encryption key:off Link Quality:38/94 Signal level:-57 dBm Noise level:-96 dBm Rx invalid nwid:0 Rx invalid crypt:0 Rx invalid frag:0 Tx excessive retries:9 Invalid misc:0 Missed beacon:0\n",
      "\n",
      "2020-12-10T01:11:53+0100 Squeezebox SdB.253_063 192.168.50.1  ping failed eth1 AR6000 802.11g ESSID:\"MUSIC\" Mode:Managed Frequency:2.412 GHz Access Point: 28:C6:8E:B3:D4:BD Bit Rate=1 Mb/s Tx-Power=15 dBm Sensitivity=0/3 Retry:on Encryption key:off Link Quality:38/94 Signal level:-57 dBm Noise level:-96 dBm Rx invalid nwid:0 Rx invalid crypt:0 Rx invalid frag:0 Tx excessive retries:5 Invalid misc:0 Missed beacon:0\n",
      "\n"
     ]
    }
   ],
   "source": [
    "import os\n",
    "indirectory = r\"data/\"\n",
    "\n",
    "results = []\n",
    "to_keep = [\" ping failed \"]\n",
    "\n",
    "for filename in os.listdir(indirectory):\n",
    "    if filename.startswith(\"1121.log-\"):\n",
    "        print(os.path.join(indirectory, filename))\n",
    "        with open(os.path.join(indirectory, filename)) as f:\n",
    "            f = f.readlines()\n",
    "\n",
    "            for line in f:\n",
    "                for phrase in to_keep:\n",
    "                    if phrase in line:\n",
    "                        results.append(line)\n",
    "                        break\n",
    "            \n",
    "print(len(results))\n",
    "for line in results[:3]:\n",
    "    print(line)\n",
    "\n",
    "\n",
    "splitted_results = [l.split(' ') for l in results]"
   ]
  },
  {
   "cell_type": "code",
   "execution_count": 5,
   "metadata": {
    "ExecuteTime": {
     "end_time": "2020-12-12T17:29:21.636357Z",
     "start_time": "2020-12-12T17:29:21.604119Z"
    },
    "execution": {
     "iopub.execute_input": "2020-12-13T10:10:04.773943Z",
     "iopub.status.busy": "2020-12-13T10:10:04.773622Z",
     "iopub.status.idle": "2020-12-13T10:10:04.953858Z",
     "shell.execute_reply": "2020-12-13T10:10:04.953540Z"
    },
    "papermill": {
     "duration": 0.191588,
     "end_time": "2020-12-13T10:10:04.953954",
     "exception": false,
     "start_time": "2020-12-13T10:10:04.762366",
     "status": "completed"
    },
    "tags": []
   },
   "outputs": [
    {
     "name": "stdout",
     "output_type": "stream",
     "text": [
      "BathRoom    563\n",
      "Kitchen     471\n",
      "Name: Radio, dtype: int64\n"
     ]
    }
   ],
   "source": [
    "import pandas as pd\n",
    "\n",
    "raw_logs = pd.DataFrame(splitted_results)\n",
    "raw_logs = raw_logs[[0, 2]]\n",
    "\n",
    "raw_logs.columns = ['Date', 'Radio']\n",
    "\n",
    "\n",
    "\n",
    "\n",
    "raw_logs['Date'] = pd.to_datetime(raw_logs['Date'].str[:-6])\n",
    "\n",
    "raw_logs['Radio']=raw_logs['Radio'].map({'SdB.253_063': 'BathRoom', 'Cuisine.252_063': 'Kitchen', 'BathRoom':'BathRoom', 'Kitchen':'Kitchen'})\n",
    "raw_logs['Radio']=raw_logs['Radio'].astype('category')\n",
    "\n",
    "print(raw_logs['Radio'].value_counts())\n",
    "\n",
    "squeezeradio_logs = raw_logs.copy()\n",
    "\n",
    "grp = squeezeradio_logs.groupby(by=[squeezeradio_logs.Date.map(lambda x : (x.year, x.month, x.day, x.hour)), squeezeradio_logs.Radio])\n",
    "squeezeradio_logs_grouped = grp.count().unstack()\n",
    "squeezeradio_logs_grouped.columns= squeezeradio_logs_grouped.columns.droplevel()\n",
    "\n",
    "\n",
    "def reset_index(df):\n",
    "  '''Returns DataFrame with index as columns'''\n",
    "  index_df = df.index.to_frame(index=False)\n",
    "  df = df.reset_index(drop=True)\n",
    "  #  In merge is important the order in which you pass the dataframes\n",
    "  # if the index contains a Categorical. \n",
    "  # pd.merge(df, index_df, left_index=True, right_index=True) does not work\n",
    "  return pd.merge(index_df, df, left_index=True, right_index=True)\n",
    "\n",
    "import numpy as np\n",
    "\n",
    "squeezeradio_logs_grouped = reset_index(squeezeradio_logs_grouped)\n",
    "squeezeradio_logs_grouped = squeezeradio_logs_grouped.replace(np.nan, 0)\n",
    "\n",
    "\n",
    "squeezeradio_logs_grouped['BathRoom']=squeezeradio_logs_grouped['BathRoom'].astype(int)\n",
    "squeezeradio_logs_grouped['Kitchen']=squeezeradio_logs_grouped['Kitchen'].astype(int)\n",
    "\n",
    "from datetime import datetime\n",
    "import time\n",
    "\n",
    "def tuple_to_date(tup):\n",
    "    end_tuple = (0,0,0,0,0)\n",
    "    t = time.mktime(tup+end_tuple)\n",
    "    return time.strftime(\"%Y-%m-%d %H:%M:%S\", time.gmtime(t))\n",
    "\n",
    "squeezeradio_logs_grouped['Date']=squeezeradio_logs_grouped['Date'].apply(tuple_to_date)\n",
    "squeezeradio_logs_grouped['Date']= pd.to_datetime(squeezeradio_logs_grouped['Date'])\n",
    "squeezeradio_logs_grouped.set_index('Date', inplace=True)"
   ]
  },
  {
   "cell_type": "markdown",
   "metadata": {
    "papermill": {
     "duration": 0.005547,
     "end_time": "2020-12-13T10:10:04.965448",
     "exception": false,
     "start_time": "2020-12-13T10:10:04.959901",
     "status": "completed"
    },
    "tags": []
   },
   "source": [
    "# Bar Plot errors per month, day, hour"
   ]
  },
  {
   "cell_type": "code",
   "execution_count": 6,
   "metadata": {
    "ExecuteTime": {
     "end_time": "2020-12-12T17:29:22.150013Z",
     "start_time": "2020-12-12T17:29:21.637357Z"
    },
    "execution": {
     "iopub.execute_input": "2020-12-13T10:10:04.979906Z",
     "iopub.status.busy": "2020-12-13T10:10:04.979586Z",
     "iopub.status.idle": "2020-12-13T10:10:06.073926Z",
     "shell.execute_reply": "2020-12-13T10:10:06.073605Z"
    },
    "papermill": {
     "duration": 1.102991,
     "end_time": "2020-12-13T10:10:06.074001",
     "exception": false,
     "start_time": "2020-12-13T10:10:04.971010",
     "status": "completed"
    },
    "tags": []
   },
   "outputs": [
    {
     "data": {
      "image/png": "[encoded data removed]",
      "text/plain": [
       "<Figure size 1080x504 with 1 Axes>"
      ]
     },
     "metadata": {
      "needs_background": "light"
     },
     "output_type": "display_data"
    }
   ],
   "source": [
    "import matplotlib.pyplot as plt\n",
    "%matplotlib inline\n",
    "\n",
    "#plot data\n",
    "fig, ax = plt.subplots(figsize=(15,7))\n",
    "\n",
    "\n",
    "\n",
    "squeezeradio_logs_grouped.plot.bar(rot=70, ax=ax)\n",
    "plt.xlabel('date')\n",
    "plt.ylabel('# of fail')\n",
    "plt.title('# of Fail per hour')\n",
    "plt.grid(True)"
   ]
  },
  {
   "cell_type": "markdown",
   "metadata": {
    "papermill": {
     "duration": 0.007307,
     "end_time": "2020-12-13T10:10:06.087794",
     "exception": false,
     "start_time": "2020-12-13T10:10:06.080487",
     "status": "completed"
    },
    "tags": []
   },
   "source": [
    "# Simple plot"
   ]
  },
  {
   "cell_type": "code",
   "execution_count": 7,
   "metadata": {
    "ExecuteTime": {
     "end_time": "2020-12-12T17:29:22.286048Z",
     "start_time": "2020-12-12T17:29:22.151158Z"
    },
    "execution": {
     "iopub.execute_input": "2020-12-13T10:10:06.112216Z",
     "iopub.status.busy": "2020-12-13T10:10:06.111886Z",
     "iopub.status.idle": "2020-12-13T10:10:06.227562Z",
     "shell.execute_reply": "2020-12-13T10:10:06.227284Z"
    },
    "papermill": {
     "duration": 0.133645,
     "end_time": "2020-12-13T10:10:06.227639",
     "exception": false,
     "start_time": "2020-12-13T10:10:06.093994",
     "status": "completed"
    },
    "tags": []
   },
   "outputs": [
    {
     "data": {
      "image/png": "[encoded data removed]",
      "text/plain": [
       "<Figure size 1080x504 with 1 Axes>"
      ]
     },
     "metadata": {
      "needs_background": "light"
     },
     "output_type": "display_data"
    }
   ],
   "source": [
    "import matplotlib.pyplot as plt\n",
    "%matplotlib inline\n",
    "\n",
    "#plot data\n",
    "fig, ax = plt.subplots(figsize=(15,7))\n",
    "\n",
    "\n",
    "\n",
    "squeezeradio_logs_grouped.plot(ax=ax)\n",
    "plt.xlabel('date')\n",
    "plt.ylabel('# of fail')\n",
    "plt.title('# of Fail per hour')\n",
    "plt.grid(True)\n",
    "plt.xticks(rotation=70);"
   ]
  },
  {
   "cell_type": "markdown",
   "metadata": {
    "papermill": {
     "duration": 0.007416,
     "end_time": "2020-12-13T10:10:06.242659",
     "exception": false,
     "start_time": "2020-12-13T10:10:06.235243",
     "status": "completed"
    },
    "tags": []
   },
   "source": [
    "# save plot as png"
   ]
  },
  {
   "cell_type": "code",
   "execution_count": 8,
   "metadata": {
    "ExecuteTime": {
     "end_time": "2020-12-12T17:30:04.407404Z",
     "start_time": "2020-12-12T17:30:04.352988Z"
    },
    "execution": {
     "iopub.execute_input": "2020-12-13T10:10:06.262063Z",
     "iopub.status.busy": "2020-12-13T10:10:06.261734Z",
     "iopub.status.idle": "2020-12-13T10:10:06.316032Z",
     "shell.execute_reply": "2020-12-13T10:10:06.315711Z"
    },
    "papermill": {
     "duration": 0.066118,
     "end_time": "2020-12-13T10:10:06.316108",
     "exception": false,
     "start_time": "2020-12-13T10:10:06.249990",
     "status": "completed"
    },
    "tags": []
   },
   "outputs": [],
   "source": [
    "min_date, max_date = squeezeradio_logs_grouped.reset_index()['Date'].min(), squeezeradio_logs_grouped.reset_index()['Date'].max()\n",
    "min_date = min_date.strftime(\"%y%m%d\")\n",
    "max_date = max_date.strftime(\"%y%m%d\")\n",
    "\n",
    "filename=max_date+'-'+min_date+'.png'\n",
    "fig.savefig('plot/'+filename)\n",
    "\n"
   ]
  },
  {
   "cell_type": "code",
   "execution_count": null,
   "metadata": {
    "papermill": {
     "duration": 0.00733,
     "end_time": "2020-12-13T10:10:06.330943",
     "exception": false,
     "start_time": "2020-12-13T10:10:06.323613",
     "status": "completed"
    },
    "tags": []
   },
   "outputs": [],
   "source": []
  }
 ],
 "metadata": {
  "kernelspec": {
   "display_name": "Python [conda env:squeezebox] *",
   "language": "python",
   "name": "conda-env-squeezebox-py"
  },
  "language_info": {
   "codemirror_mode": {
    "name": "ipython",
    "version": 3
   },
   "file_extension": ".py",
   "mimetype": "text/x-python",
   "name": "python",
   "nbconvert_exporter": "python",
   "pygments_lexer": "ipython3",
   "version": "3.7.9"
  },
  "papermill": {
   "default_parameters": {},
   "duration": 4.952001,
   "end_time": "2020-12-13T10:10:06.645023",
   "environment_variables": {},
   "exception": null,
   "input_path": "1 - EDA.ipynb",
   "output_path": "1 - EDA - out.ipynb",
   "parameters": {},
   "start_time": "2020-12-13T10:10:01.693022",
   "version": "2.2.2"
  },
  "toc": {
   "base_numbering": 1,
   "nav_menu": {},
   "number_sections": true,
   "sideBar": true,
   "skip_h1_title": false,
   "title_cell": "Table of Contents",
   "title_sidebar": "Contents",
   "toc_cell": false,
   "toc_position": {},
   "toc_section_display": true,
   "toc_window_display": true
  }
 },
 "nbformat": 4,
 "nbformat_minor": 4
}