{
 "cells": [
  {
   "cell_type": "markdown",
   "metadata": {
    "papermill": {
     "duration": 0.005125,
     "end_time": "2020-12-14T10:58:08.787936",
     "exception": false,
     "start_time": "2020-12-14T10:58:08.782811",
     "status": "completed"
    },
    "tags": []
   },
   "source": [
    "# Explanation\n",
    "\n",
    "With my wifi 6 router update, I have issues with squeezebox radios not able to connect anymore to wifi.\n",
    "\n",
    "Even connecting to the legacy router is an issue.\n",
    "\n",
    "I have posted messages to squeezebox forums : https://forums.slimdevices.com/showthread.php?97791-Squeezebox-Radio-keeps-losing-wireless-connection-and-won-t-reconnect-any-ideas/page10\n",
    "\n",
    "On user has developped a logging approach to keep track of connectivity issues. My intent is to plot results of these log files.\n",
    "\n",
    "I have 2 radios, one in the kitchen, one in the bathroom.\n"
   ]
  },
  {
   "cell_type": "markdown",
   "metadata": {
    "papermill": {
     "duration": 0.004742,
     "end_time": "2020-12-14T10:58:08.800307",
     "exception": false,
     "start_time": "2020-12-14T10:58:08.795565",
     "status": "completed"
    },
    "tags": []
   },
   "source": [
    "# Refresh data from squeezebox server"
   ]
  },
  {
   "cell_type": "code",
   "execution_count": 1,
   "metadata": {
    "ExecuteTime": {
     "end_time": "2020-12-12T17:29:18.036561Z",
     "start_time": "2020-12-12T17:29:17.793811Z"
    },
    "execution": {
     "iopub.execute_input": "2020-12-14T10:58:08.812745Z",
     "iopub.status.busy": "2020-12-14T10:58:08.812373Z",
     "iopub.status.idle": "2020-12-14T10:58:09.024175Z",
     "shell.execute_reply": "2020-12-14T10:58:09.023793Z"
    },
    "papermill": {
     "duration": 0.219534,
     "end_time": "2020-12-14T10:58:09.024286",
     "exception": false,
     "start_time": "2020-12-14T10:58:08.804752",
     "status": "completed"
    },
    "tags": []
   },
   "outputs": [],
   "source": [
    "!mkdir -p data\n",
    "!mkdir -p plot"
   ]
  },
  {
   "cell_type": "markdown",
   "metadata": {
    "papermill": {
     "duration": 0.004668,
     "end_time": "2020-12-14T10:58:09.034674",
     "exception": false,
     "start_time": "2020-12-14T10:58:09.030006",
     "status": "completed"
    },
    "tags": []
   },
   "source": [
    "scp within jupyter notebook requires to deploy a ssh-key on the target machine.\n",
    "\n",
    "``` bash\n",
    "(base) explore@explore-ThinkPad-P53:~/git/guillaume/squeezebox$ ssh-keygen -t rsa\n",
    "(base) explore@explore-ThinkPad-P53:~/git/guillaume/squeezebox$ scp /home/explore/.ssh/id_rsa.pub guillaume@htpc:~ \n",
    "```\n",
    "\n",
    "``` bash\n",
    "guillaume@htpc-arctic:~$ cat $HOME/id_rsa.pub >> $HOME/.ssh/authorized_keys\n",
    "guillaume@htpc-arctic:~$ rm id_rsa.pub\n",
    "```"
   ]
  },
  {
   "cell_type": "code",
   "execution_count": 2,
   "metadata": {
    "ExecuteTime": {
     "end_time": "2020-12-13T09:26:54.084993Z",
     "start_time": "2020-12-13T09:26:52.212354Z"
    },
    "execution": {
     "iopub.execute_input": "2020-12-14T10:58:09.046484Z",
     "iopub.status.busy": "2020-12-14T10:58:09.046163Z",
     "iopub.status.idle": "2020-12-14T10:58:13.783869Z",
     "shell.execute_reply": "2020-12-14T10:58:13.783545Z"
    },
    "papermill": {
     "duration": 4.744592,
     "end_time": "2020-12-14T10:58:13.783946",
     "exception": false,
     "start_time": "2020-12-14T10:58:09.039354",
     "status": "completed"
    },
    "tags": []
   },
   "outputs": [
    {
     "name": "stdout",
     "output_type": "stream",
     "text": [
      "receiving incremental file list\r\n"
     ]
    },
    {
     "name": "stdout",
     "output_type": "stream",
     "text": [
      "1121.log\r\n"
     ]
    },
    {
     "name": "stdout",
     "output_type": "stream",
     "text": [
      "1121.log-20201214\r\n"
     ]
    },
    {
     "name": "stdout",
     "output_type": "stream",
     "text": [
      "\r\n",
      "sent 26.34K bytes  received 968.96K bytes  221.18K bytes/sec\r\n",
      "total size is 79.79M  speedup is 80.17\r\n"
     ]
    }
   ],
   "source": [
    "# !scp -r guillaume@htpc:wlanpoke/* data/\n",
    "\n",
    "# move from scp to rsync\n",
    "!rsync -azvh guillaume@htpc:wlanpoke/* data/"
   ]
  },
  {
   "cell_type": "markdown",
   "metadata": {
    "papermill": {
     "duration": 0.005503,
     "end_time": "2020-12-14T10:58:13.795357",
     "exception": false,
     "start_time": "2020-12-14T10:58:13.789854",
     "status": "completed"
    },
    "tags": []
   },
   "source": [
    "# Read files and turn them into pandas"
   ]
  },
  {
   "cell_type": "code",
   "execution_count": 3,
   "metadata": {
    "ExecuteTime": {
     "end_time": "2020-12-12T13:09:28.520835Z",
     "start_time": "2020-12-12T13:09:28.497726Z"
    },
    "deletable": false,
    "editable": false,
    "execution": {
     "iopub.execute_input": "2020-12-14T10:58:13.809186Z",
     "iopub.status.busy": "2020-12-14T10:58:13.808885Z",
     "iopub.status.idle": "2020-12-14T10:58:13.827240Z",
     "shell.execute_reply": "2020-12-14T10:58:13.826950Z"
    },
    "papermill": {
     "duration": 0.026554,
     "end_time": "2020-12-14T10:58:13.827316",
     "exception": false,
     "start_time": "2020-12-14T10:58:13.800762",
     "status": "completed"
    },
    "run_control": {
     "frozen": true
    },
    "tags": []
   },
   "outputs": [
    {
     "name": "stdout",
     "output_type": "stream",
     "text": [
      "260\n",
      "2020-12-10T00:07:06+0100 Squeezebox SdB.253_063 192.168.50.1  ping failed eth1 AR6000 802.11g ESSID:\"MUSIC\" Mode:Managed Frequency:2.412 GHz Access Point: 28:C6:8E:B3:D4:BD Bit Rate=1 Mb/s Tx-Power=15 dBm Sensitivity=0/3 Retry:on Encryption key:off Link Quality:38/94 Signal level:-57 dBm Noise level:-96 dBm Rx invalid nwid:0 Rx invalid crypt:0 Rx invalid frag:0 Tx excessive retries:5 Invalid misc:0 Missed beacon:0\n",
      "\n",
      "2020-12-10T01:02:07+0100 Squeezebox SdB.253_063 192.168.50.1  ping failed eth1 AR6000 802.11g ESSID:\"MUSIC\" Mode:Managed Frequency:2.412 GHz Access Point: 28:C6:8E:B3:D4:BD Bit Rate=1 Mb/s Tx-Power=15 dBm Sensitivity=0/3 Retry:on Encryption key:off Link Quality:38/94 Signal level:-57 dBm Noise level:-96 dBm Rx invalid nwid:0 Rx invalid crypt:0 Rx invalid frag:0 Tx excessive retries:9 Invalid misc:0 Missed beacon:0\n",
      "\n",
      "2020-12-10T01:11:53+0100 Squeezebox SdB.253_063 192.168.50.1  ping failed eth1 AR6000 802.11g ESSID:\"MUSIC\" Mode:Managed Frequency:2.412 GHz Access Point: 28:C6:8E:B3:D4:BD Bit Rate=1 Mb/s Tx-Power=15 dBm Sensitivity=0/3 Retry:on Encryption key:off Link Quality:38/94 Signal level:-57 dBm Noise level:-96 dBm Rx invalid nwid:0 Rx invalid crypt:0 Rx invalid frag:0 Tx excessive retries:5 Invalid misc:0 Missed beacon:0\n",
      "\n"
     ]
    }
   ],
   "source": [
    "infile = r\"data/1121.log-20201211\"\n",
    "\n",
    "results = []\n",
    "to_keep = [\" ping failed \"]\n",
    "\n",
    "with open(infile) as f:\n",
    "    f = f.readlines()\n",
    "\n",
    "for line in f:\n",
    "    for phrase in to_keep:\n",
    "        if phrase in line:\n",
    "            results.append(line)\n",
    "            break\n",
    "\n",
    "print(len(results))\n",
    "for line in results[:3]:\n",
    "    print(line)\n",
    "# print(results[:10])"
   ]
  },
  {
   "cell_type": "code",
   "execution_count": 4,
   "metadata": {
    "ExecuteTime": {
     "end_time": "2020-12-12T17:29:21.601652Z",
     "start_time": "2020-12-12T17:29:21.530643Z"
    },
    "execution": {
     "iopub.execute_input": "2020-12-14T10:58:13.843006Z",
     "iopub.status.busy": "2020-12-14T10:58:13.842632Z",
     "iopub.status.idle": "2020-12-14T10:58:13.921446Z",
     "shell.execute_reply": "2020-12-14T10:58:13.921095Z"
    },
    "papermill": {
     "duration": 0.088513,
     "end_time": "2020-12-14T10:58:13.921524",
     "exception": false,
     "start_time": "2020-12-14T10:58:13.833011",
     "status": "completed"
    },
    "tags": []
   },
   "outputs": [
    {
     "name": "stdout",
     "output_type": "stream",
     "text": [
      "data/1121.log-20201211\n",
      "data/1121.log-20201214\n"
     ]
    },
    {
     "name": "stdout",
     "output_type": "stream",
     "text": [
      "data/1121.log-20201212\n"
     ]
    },
    {
     "name": "stdout",
     "output_type": "stream",
     "text": [
      "data/1121.log-20201213\n",
      "1431\n",
      "2020-12-10T00:07:06+0100 Squeezebox SdB.253_063 192.168.50.1  ping failed eth1 AR6000 802.11g ESSID:\"MUSIC\" Mode:Managed Frequency:2.412 GHz Access Point: 28:C6:8E:B3:D4:BD Bit Rate=1 Mb/s Tx-Power=15 dBm Sensitivity=0/3 Retry:on Encryption key:off Link Quality:38/94 Signal level:-57 dBm Noise level:-96 dBm Rx invalid nwid:0 Rx invalid crypt:0 Rx invalid frag:0 Tx excessive retries:5 Invalid misc:0 Missed beacon:0\n",
      "\n",
      "2020-12-10T01:02:07+0100 Squeezebox SdB.253_063 192.168.50.1  ping failed eth1 AR6000 802.11g ESSID:\"MUSIC\" Mode:Managed Frequency:2.412 GHz Access Point: 28:C6:8E:B3:D4:BD Bit Rate=1 Mb/s Tx-Power=15 dBm Sensitivity=0/3 Retry:on Encryption key:off Link Quality:38/94 Signal level:-57 dBm Noise level:-96 dBm Rx invalid nwid:0 Rx invalid crypt:0 Rx invalid frag:0 Tx excessive retries:9 Invalid misc:0 Missed beacon:0\n",
      "\n",
      "2020-12-10T01:11:53+0100 Squeezebox SdB.253_063 192.168.50.1  ping failed eth1 AR6000 802.11g ESSID:\"MUSIC\" Mode:Managed Frequency:2.412 GHz Access Point: 28:C6:8E:B3:D4:BD Bit Rate=1 Mb/s Tx-Power=15 dBm Sensitivity=0/3 Retry:on Encryption key:off Link Quality:38/94 Signal level:-57 dBm Noise level:-96 dBm Rx invalid nwid:0 Rx invalid crypt:0 Rx invalid frag:0 Tx excessive retries:5 Invalid misc:0 Missed beacon:0\n",
      "\n"
     ]
    }
   ],
   "source": [
    "import os\n",
    "indirectory = r\"data/\"\n",
    "\n",
    "results = []\n",
    "to_keep = [\" ping failed \"]\n",
    "\n",
    "for filename in os.listdir(indirectory):\n",
    "    if filename.startswith(\"1121.log-\"):\n",
    "        print(os.path.join(indirectory, filename))\n",
    "        with open(os.path.join(indirectory, filename)) as f:\n",
    "            f = f.readlines()\n",
    "\n",
    "            for line in f:\n",
    "                for phrase in to_keep:\n",
    "                    if phrase in line:\n",
    "                        results.append(line)\n",
    "                        break\n",
    "            \n",
    "print(len(results))\n",
    "for line in results[:3]:\n",
    "    print(line)\n",
    "\n",
    "\n",
    "splitted_results = [l.split(' ') for l in results]"
   ]
  },
  {
   "cell_type": "code",
   "execution_count": 5,
   "metadata": {
    "ExecuteTime": {
     "end_time": "2020-12-12T17:29:21.636357Z",
     "start_time": "2020-12-12T17:29:21.604119Z"
    },
    "execution": {
     "iopub.execute_input": "2020-12-14T10:58:13.940107Z",
     "iopub.status.busy": "2020-12-14T10:58:13.939788Z",
     "iopub.status.idle": "2020-12-14T10:58:14.117682Z",
     "shell.execute_reply": "2020-12-14T10:58:14.117332Z"
    },
    "papermill": {
     "duration": 0.189772,
     "end_time": "2020-12-14T10:58:14.117758",
     "exception": false,
     "start_time": "2020-12-14T10:58:13.927986",
     "status": "completed"
    },
    "tags": []
   },
   "outputs": [
    {
     "name": "stdout",
     "output_type": "stream",
     "text": [
      "BathRoom    754\n",
      "Kitchen     677\n",
      "Name: Radio, dtype: int64\n"
     ]
    }
   ],
   "source": [
    "import pandas as pd\n",
    "\n",
    "raw_logs = pd.DataFrame(splitted_results)\n",
    "raw_logs = raw_logs[[0, 2]]\n",
    "\n",
    "raw_logs.columns = ['Date', 'Radio']\n",
    "\n",
    "\n",
    "\n",
    "\n",
    "raw_logs['Date'] = pd.to_datetime(raw_logs['Date'].str[:-6])\n",
    "\n",
    "raw_logs['Radio']=raw_logs['Radio'].map({'SdB.253_063': 'BathRoom', 'Cuisine.252_063': 'Kitchen', 'BathRoom':'BathRoom', 'Kitchen':'Kitchen'})\n",
    "raw_logs['Radio']=raw_logs['Radio'].astype('category')\n",
    "\n",
    "print(raw_logs['Radio'].value_counts())\n",
    "\n",
    "squeezeradio_logs = raw_logs.copy()\n",
    "\n",
    "grp = squeezeradio_logs.groupby(by=[squeezeradio_logs.Date.map(lambda x : (x.year, x.month, x.day, x.hour)), squeezeradio_logs.Radio])\n",
    "squeezeradio_logs_grouped = grp.count().unstack()\n",
    "squeezeradio_logs_grouped.columns= squeezeradio_logs_grouped.columns.droplevel()\n",
    "\n",
    "\n",
    "def reset_index(df):\n",
    "  '''Returns DataFrame with index as columns'''\n",
    "  index_df = df.index.to_frame(index=False)\n",
    "  df = df.reset_index(drop=True)\n",
    "  #  In merge is important the order in which you pass the dataframes\n",
    "  # if the index contains a Categorical. \n",
    "  # pd.merge(df, index_df, left_index=True, right_index=True) does not work\n",
    "  return pd.merge(index_df, df, left_index=True, right_index=True)\n",
    "\n",
    "import numpy as np\n",
    "\n",
    "squeezeradio_logs_grouped = reset_index(squeezeradio_logs_grouped)\n",
    "squeezeradio_logs_grouped = squeezeradio_logs_grouped.replace(np.nan, 0)\n",
    "\n",
    "\n",
    "squeezeradio_logs_grouped['BathRoom']=squeezeradio_logs_grouped['BathRoom'].astype(int)\n",
    "squeezeradio_logs_grouped['Kitchen']=squeezeradio_logs_grouped['Kitchen'].astype(int)\n",
    "\n",
    "from datetime import datetime\n",
    "import time\n",
    "\n",
    "def tuple_to_date(tup):\n",
    "    end_tuple = (0,0,0,0,0)\n",
    "    t = time.mktime(tup+end_tuple)\n",
    "    return time.strftime(\"%Y-%m-%d %H:%M:%S\", time.gmtime(t))\n",
    "\n",
    "squeezeradio_logs_grouped['Date']=squeezeradio_logs_grouped['Date'].apply(tuple_to_date)\n",
    "squeezeradio_logs_grouped['Date']= pd.to_datetime(squeezeradio_logs_grouped['Date'])\n",
    "squeezeradio_logs_grouped.set_index('Date', inplace=True)"
   ]
  },
  {
   "cell_type": "markdown",
   "metadata": {
    "papermill": {
     "duration": 0.006346,
     "end_time": "2020-12-14T10:58:14.130735",
     "exception": false,
     "start_time": "2020-12-14T10:58:14.124389",
     "status": "completed"
    },
    "tags": []
   },
   "source": [
    "# Bar Plot errors per month, day, hour"
   ]
  },
  {
   "cell_type": "code",
   "execution_count": 6,
   "metadata": {
    "ExecuteTime": {
     "end_time": "2020-12-12T17:29:22.150013Z",
     "start_time": "2020-12-12T17:29:21.637357Z"
    },
    "execution": {
     "iopub.execute_input": "2020-12-14T10:58:14.146621Z",
     "iopub.status.busy": "2020-12-14T10:58:14.146322Z",
     "iopub.status.idle": "2020-12-14T10:58:15.500979Z",
     "shell.execute_reply": "2020-12-14T10:58:15.500703Z"
    },
    "papermill": {
     "duration": 1.364049,
     "end_time": "2020-12-14T10:58:15.501057",
     "exception": false,
     "start_time": "2020-12-14T10:58:14.137008",
     "status": "completed"
    },
    "tags": []
   },
   "outputs": [
    {
     "data": {
      "image/png": "[encoded data removed]",
      "text/plain": [
       "<Figure size 1080x504 with 1 Axes>"
      ]
     },
     "metadata": {
      "needs_background": "light"
     },
     "output_type": "display_data"
    }
   ],
   "source": [
    "import matplotlib.pyplot as plt\n",
    "%matplotlib inline\n",
    "\n",
    "#plot data\n",
    "fig, ax = plt.subplots(figsize=(15,7))\n",
    "\n",
    "\n",
    "\n",
    "squeezeradio_logs_grouped.plot.bar(rot=70, ax=ax)\n",
    "plt.xlabel('date')\n",
    "plt.ylabel('# of fail')\n",
    "plt.title('# of Fail per hour')\n",
    "plt.grid(True)"
   ]
  },
  {
   "cell_type": "markdown",
   "metadata": {
    "papermill": {
     "duration": 0.007048,
     "end_time": "2020-12-14T10:58:15.515531",
     "exception": false,
     "start_time": "2020-12-14T10:58:15.508483",
     "status": "completed"
    },
    "tags": []
   },
   "source": [
    "# Simple plot"
   ]
  },
  {
   "cell_type": "code",
   "execution_count": 7,
   "metadata": {
    "ExecuteTime": {
     "end_time": "2020-12-12T17:29:22.286048Z",
     "start_time": "2020-12-12T17:29:22.151158Z"
    },
    "execution": {
     "iopub.execute_input": "2020-12-14T10:58:15.540749Z",
     "iopub.status.busy": "2020-12-14T10:58:15.540231Z",
     "iopub.status.idle": "2020-12-14T10:58:15.647256Z",
     "shell.execute_reply": "2020-12-14T10:58:15.646940Z"
    },
    "papermill": {
     "duration": 0.124776,
     "end_time": "2020-12-14T10:58:15.647332",
     "exception": false,
     "start_time": "2020-12-14T10:58:15.522556",
     "status": "completed"
    },
    "tags": []
   },
   "outputs": [
    {
     "data": {
      "image/png": "[encoded data removed]",
      "text/plain": [
       "<Figure size 1080x504 with 1 Axes>"
      ]
     },
     "metadata": {
      "needs_background": "light"
     },
     "output_type": "display_data"
    }
   ],
   "source": [
    "import matplotlib.pyplot as plt\n",
    "%matplotlib inline\n",
    "\n",
    "#plot data\n",
    "fig, ax = plt.subplots(figsize=(15,7))\n",
    "\n",
    "\n",
    "\n",
    "squeezeradio_logs_grouped.plot(ax=ax)\n",
    "plt.xlabel('date')\n",
    "plt.ylabel('# of fail')\n",
    "plt.title('# of Fail per hour')\n",
    "plt.grid(True)\n",
    "plt.xticks(rotation=70);"
   ]
  },
  {
   "cell_type": "markdown",
   "metadata": {
    "papermill": {
     "duration": 0.008195,
     "end_time": "2020-12-14T10:58:15.663916",
     "exception": false,
     "start_time": "2020-12-14T10:58:15.655721",
     "status": "completed"
    },
    "tags": []
   },
   "source": [
    "# save plot as png"
   ]
  },
  {
   "cell_type": "code",
   "execution_count": 8,
   "metadata": {
    "ExecuteTime": {
     "end_time": "2020-12-12T17:30:04.407404Z",
     "start_time": "2020-12-12T17:30:04.352988Z"
    },
    "execution": {
     "iopub.execute_input": "2020-12-14T10:58:15.685134Z",
     "iopub.status.busy": "2020-12-14T10:58:15.684622Z",
     "iopub.status.idle": "2020-12-14T10:58:15.734900Z",
     "shell.execute_reply": "2020-12-14T10:58:15.735144Z"
    },
    "papermill": {
     "duration": 0.063182,
     "end_time": "2020-12-14T10:58:15.735242",
     "exception": false,
     "start_time": "2020-12-14T10:58:15.672060",
     "status": "completed"
    },
    "tags": []
   },
   "outputs": [],
   "source": [
    "min_date, max_date = squeezeradio_logs_grouped.reset_index()['Date'].min(), squeezeradio_logs_grouped.reset_index()['Date'].max()\n",
    "min_date = min_date.strftime(\"%y%m%d\")\n",
    "max_date = max_date.strftime(\"%y%m%d\")\n",
    "\n",
    "filename=max_date+'-'+min_date+'.png'\n",
    "fig.savefig('plot/'+filename)\n",
    "\n"
   ]
  },
  {
   "cell_type": "code",
   "execution_count": null,
   "metadata": {
    "papermill": {
     "duration": 0.008262,
     "end_time": "2020-12-14T10:58:15.751892",
     "exception": false,
     "start_time": "2020-12-14T10:58:15.743630",
     "status": "completed"
    },
    "tags": []
   },
   "outputs": [],
   "source": []
  }
 ],
 "metadata": {
  "kernelspec": {
   "display_name": "Python [conda env:squeezebox] *",
   "language": "python",
   "name": "conda-env-squeezebox-py"
  },
  "language_info": {
   "codemirror_mode": {
    "name": "ipython",
    "version": 3
   },
   "file_extension": ".py",
   "mimetype": "text/x-python",
   "name": "python",
   "nbconvert_exporter": "python",
   "pygments_lexer": "ipython3",
   "version": "3.7.9"
  },
  "papermill": {
   "default_parameters": {},
   "duration": 7.900702,
   "end_time": "2020-12-14T10:58:16.066609",
   "environment_variables": {},
   "exception": null,
   "input_path": "1 - EDA.ipynb",
   "output_path": "1 - EDA - out.ipynb",
   "parameters": {},
   "start_time": "2020-12-14T10:58:08.165907",
   "version": "2.2.2"
  },
  "toc": {
   "base_numbering": 1,
   "nav_menu": {},
   "number_sections": true,
   "sideBar": true,
   "skip_h1_title": false,
   "title_cell": "Table of Contents",
   "title_sidebar": "Contents",
   "toc_cell": false,
   "toc_position": {},
   "toc_section_display": true,
   "toc_window_display": true
  }
 },
 "nbformat": 4,
 "nbformat_minor": 4
}